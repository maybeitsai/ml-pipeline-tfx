{
 "cells": [
  {
   "cell_type": "code",
   "execution_count": null,
   "metadata": {},
   "outputs": [],
   "source": [
    "import tensorflow as tf\n",
    "import tensorflow_transform as tft\n",
    "from tensorflow_metadata.proto.v0 import schema_pb2"
   ]
  },
  {
   "cell_type": "code",
   "execution_count": null,
   "metadata": {},
   "outputs": [],
   "source": [
    "# Path to the saved model\n",
    "MODEL_DIR = 'serving_model_dir/xss-detection-model'\n",
    "TRANSFORM_GRAPH_DIR = 'pipelines/xss-pipeline/Transform/transform_graph'\n",
    "SCHEMA_FILE = 'pipelines/xss-pipeline/SchemaGen/schema.pbtxt'\n",
    "\n",
    "# Load the saved model\n",
    "model = tf.keras.models.load_model(MODEL_DIR)\n",
    "\n",
    "# Load the transform graph\n",
    "transform = tft.TFTransformOutput(TRANSFORM_GRAPH_DIR)\n",
    "\n",
    "# Load the schema\n",
    "schema = schema_pb2.Schema()\n",
    "with open(SCHEMA_FILE, 'rb') as f:\n",
    "    schema.ParseFromString(f.read())"
   ]
  },
  {
   "cell_type": "code",
   "execution_count": null,
   "metadata": {},
   "outputs": [],
   "source": [
    "# Function to preprocess input data\n",
    "def preprocess(input_data):\n",
    "    feature_spec = tft.TFTransformOutput(TRANSFORM_GRAPH_DIR).raw_feature_spec()\n",
    "    feature_spec.pop('Label')\n",
    "    raw_features = tf.io.parse_example(input_data, feature_spec)\n",
    "    transformed_features = transform.transform_raw_features(raw_features)\n",
    "    return transformed_features\n",
    "\n",
    "# Function to make predictions\n",
    "def predict(input_sentences):\n",
    "    serialized_inputs = [tf.train.Example(features=tf.train.Features(feature={\n",
    "        'Sentence': tf.train.Feature(bytes_list=tf.train.BytesList(value=[tf.compat.as_bytes(sentence)]))\n",
    "    })).SerializeToString() for sentence in input_sentences]\n",
    "    transformed_inputs = preprocess(serialized_inputs)\n",
    "    predictions = model.predict(transformed_inputs)\n",
    "    return predictions"
   ]
  },
  {
   "cell_type": "markdown",
   "metadata": {},
   "source": [
    "# Make Prediction Request"
   ]
  },
  {
   "cell_type": "code",
   "execution_count": null,
   "metadata": {},
   "outputs": [],
   "source": [
    "# Example sentences for prediction\n",
    "example_sentences = [\n",
    "    '<div draggable=\"\"true\"\" contenteditable>drag me</div><image ondragover=alert(1) contenteditable>drop here</image>', # XSS\n",
    "    '</span> <span class=\"\"reference-text\"\"><a href=\"\"#CITEREFLangley2011\"\">Langley 2011 </a>.' # not a XSS\n",
    "]\n",
    "\n",
    "# Make predictions\n",
    "predictions = predict(example_sentences)\n",
    "print('Predictions:', predictions)"
   ]
  }
 ],
 "metadata": {
  "kernelspec": {
   "display_name": "mlops-tfx",
   "language": "python",
   "name": "python3"
  },
  "language_info": {
   "name": "python",
   "version": "3.9.19"
  }
 },
 "nbformat": 4,
 "nbformat_minor": 2
}
